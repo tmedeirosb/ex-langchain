{
 "cells": [
  {
   "cell_type": "code",
   "execution_count": 1,
   "metadata": {},
   "outputs": [
    {
     "name": "stdout",
     "output_type": "stream",
     "text": [
      "Requirement already satisfied: unstructured in /Users/tmedeirosb/Desktop/DEV/LANGCHAIN/venv/lib/python3.10/site-packages (0.14.4)\n",
      "Requirement already satisfied: selenium in /Users/tmedeirosb/Desktop/DEV/LANGCHAIN/venv/lib/python3.10/site-packages (4.22.0)\n",
      "Requirement already satisfied: chardet in /Users/tmedeirosb/Desktop/DEV/LANGCHAIN/venv/lib/python3.10/site-packages (from unstructured) (5.2.0)\n",
      "Requirement already satisfied: filetype in /Users/tmedeirosb/Desktop/DEV/LANGCHAIN/venv/lib/python3.10/site-packages (from unstructured) (1.2.0)\n",
      "Requirement already satisfied: python-magic in /Users/tmedeirosb/Desktop/DEV/LANGCHAIN/venv/lib/python3.10/site-packages (from unstructured) (0.4.27)\n",
      "Requirement already satisfied: lxml in /Users/tmedeirosb/Desktop/DEV/LANGCHAIN/venv/lib/python3.10/site-packages (from unstructured) (5.2.2)\n",
      "Requirement already satisfied: nltk in /Users/tmedeirosb/Desktop/DEV/LANGCHAIN/venv/lib/python3.10/site-packages (from unstructured) (3.8.1)\n",
      "Requirement already satisfied: tabulate in /Users/tmedeirosb/Desktop/DEV/LANGCHAIN/venv/lib/python3.10/site-packages (from unstructured) (0.9.0)\n",
      "Requirement already satisfied: requests in /Users/tmedeirosb/Desktop/DEV/LANGCHAIN/venv/lib/python3.10/site-packages (from unstructured) (2.31.0)\n",
      "Requirement already satisfied: beautifulsoup4 in /Users/tmedeirosb/Desktop/DEV/LANGCHAIN/venv/lib/python3.10/site-packages (from unstructured) (4.12.3)\n",
      "Requirement already satisfied: emoji in /Users/tmedeirosb/Desktop/DEV/LANGCHAIN/venv/lib/python3.10/site-packages (from unstructured) (2.12.1)\n",
      "Requirement already satisfied: dataclasses-json in /Users/tmedeirosb/Desktop/DEV/LANGCHAIN/venv/lib/python3.10/site-packages (from unstructured) (0.5.14)\n",
      "Requirement already satisfied: python-iso639 in /Users/tmedeirosb/Desktop/DEV/LANGCHAIN/venv/lib/python3.10/site-packages (from unstructured) (2024.4.27)\n",
      "Requirement already satisfied: langdetect in /Users/tmedeirosb/Desktop/DEV/LANGCHAIN/venv/lib/python3.10/site-packages (from unstructured) (1.0.9)\n",
      "Requirement already satisfied: numpy in /Users/tmedeirosb/Desktop/DEV/LANGCHAIN/venv/lib/python3.10/site-packages (from unstructured) (1.26.4)\n",
      "Requirement already satisfied: rapidfuzz in /Users/tmedeirosb/Desktop/DEV/LANGCHAIN/venv/lib/python3.10/site-packages (from unstructured) (3.9.3)\n",
      "Requirement already satisfied: backoff in /Users/tmedeirosb/Desktop/DEV/LANGCHAIN/venv/lib/python3.10/site-packages (from unstructured) (2.2.1)\n",
      "Requirement already satisfied: typing-extensions in /Users/tmedeirosb/Desktop/DEV/LANGCHAIN/venv/lib/python3.10/site-packages (from unstructured) (4.12.2)\n",
      "Requirement already satisfied: unstructured-client in /Users/tmedeirosb/Desktop/DEV/LANGCHAIN/venv/lib/python3.10/site-packages (from unstructured) (0.18.0)\n",
      "Requirement already satisfied: wrapt in /Users/tmedeirosb/Desktop/DEV/LANGCHAIN/venv/lib/python3.10/site-packages (from unstructured) (1.16.0)\n",
      "Requirement already satisfied: urllib3<3,>=1.26 in /Users/tmedeirosb/Desktop/DEV/LANGCHAIN/venv/lib/python3.10/site-packages (from urllib3[socks]<3,>=1.26->selenium) (2.2.1)\n",
      "Requirement already satisfied: trio~=0.17 in /Users/tmedeirosb/Desktop/DEV/LANGCHAIN/venv/lib/python3.10/site-packages (from selenium) (0.25.1)\n",
      "Requirement already satisfied: trio-websocket~=0.9 in /Users/tmedeirosb/Desktop/DEV/LANGCHAIN/venv/lib/python3.10/site-packages (from selenium) (0.11.1)\n",
      "Requirement already satisfied: certifi>=2021.10.8 in /Users/tmedeirosb/Desktop/DEV/LANGCHAIN/venv/lib/python3.10/site-packages (from selenium) (2024.6.2)\n",
      "Requirement already satisfied: websocket-client>=1.8.0 in /Users/tmedeirosb/Desktop/DEV/LANGCHAIN/venv/lib/python3.10/site-packages (from selenium) (1.8.0)\n",
      "Requirement already satisfied: attrs>=23.2.0 in /Users/tmedeirosb/Desktop/DEV/LANGCHAIN/venv/lib/python3.10/site-packages (from trio~=0.17->selenium) (23.2.0)\n",
      "Requirement already satisfied: sortedcontainers in /Users/tmedeirosb/Desktop/DEV/LANGCHAIN/venv/lib/python3.10/site-packages (from trio~=0.17->selenium) (2.4.0)\n",
      "Requirement already satisfied: idna in /Users/tmedeirosb/Desktop/DEV/LANGCHAIN/venv/lib/python3.10/site-packages (from trio~=0.17->selenium) (3.7)\n",
      "Requirement already satisfied: outcome in /Users/tmedeirosb/Desktop/DEV/LANGCHAIN/venv/lib/python3.10/site-packages (from trio~=0.17->selenium) (1.3.0.post0)\n",
      "Requirement already satisfied: sniffio>=1.3.0 in /Users/tmedeirosb/Desktop/DEV/LANGCHAIN/venv/lib/python3.10/site-packages (from trio~=0.17->selenium) (1.3.1)\n",
      "Requirement already satisfied: exceptiongroup in /Users/tmedeirosb/Desktop/DEV/LANGCHAIN/venv/lib/python3.10/site-packages (from trio~=0.17->selenium) (1.2.1)\n",
      "Requirement already satisfied: wsproto>=0.14 in /Users/tmedeirosb/Desktop/DEV/LANGCHAIN/venv/lib/python3.10/site-packages (from trio-websocket~=0.9->selenium) (1.2.0)\n",
      "Requirement already satisfied: pysocks!=1.5.7,<2.0,>=1.5.6 in /Users/tmedeirosb/Desktop/DEV/LANGCHAIN/venv/lib/python3.10/site-packages (from urllib3[socks]<3,>=1.26->selenium) (1.7.1)\n",
      "Requirement already satisfied: soupsieve>1.2 in /Users/tmedeirosb/Desktop/DEV/LANGCHAIN/venv/lib/python3.10/site-packages (from beautifulsoup4->unstructured) (2.5)\n",
      "Requirement already satisfied: marshmallow<4.0.0,>=3.18.0 in /Users/tmedeirosb/Desktop/DEV/LANGCHAIN/venv/lib/python3.10/site-packages (from dataclasses-json->unstructured) (3.21.2)\n",
      "Requirement already satisfied: typing-inspect<1,>=0.4.0 in /Users/tmedeirosb/Desktop/DEV/LANGCHAIN/venv/lib/python3.10/site-packages (from dataclasses-json->unstructured) (0.9.0)\n",
      "Requirement already satisfied: six in /Users/tmedeirosb/Desktop/DEV/LANGCHAIN/venv/lib/python3.10/site-packages (from langdetect->unstructured) (1.16.0)\n",
      "Requirement already satisfied: click in /Users/tmedeirosb/Desktop/DEV/LANGCHAIN/venv/lib/python3.10/site-packages (from nltk->unstructured) (8.1.7)\n",
      "Requirement already satisfied: joblib in /Users/tmedeirosb/Desktop/DEV/LANGCHAIN/venv/lib/python3.10/site-packages (from nltk->unstructured) (1.4.2)\n",
      "Requirement already satisfied: regex>=2021.8.3 in /Users/tmedeirosb/Desktop/DEV/LANGCHAIN/venv/lib/python3.10/site-packages (from nltk->unstructured) (2023.12.25)\n",
      "Requirement already satisfied: tqdm in /Users/tmedeirosb/Desktop/DEV/LANGCHAIN/venv/lib/python3.10/site-packages (from nltk->unstructured) (4.66.4)\n",
      "Requirement already satisfied: charset-normalizer<4,>=2 in /Users/tmedeirosb/Desktop/DEV/LANGCHAIN/venv/lib/python3.10/site-packages (from requests->unstructured) (3.3.2)\n",
      "Requirement already satisfied: dataclasses-json-speakeasy>=0.5.11 in /Users/tmedeirosb/Desktop/DEV/LANGCHAIN/venv/lib/python3.10/site-packages (from unstructured-client->unstructured) (0.5.11)\n",
      "Requirement already satisfied: jsonpath-python>=1.0.6 in /Users/tmedeirosb/Desktop/DEV/LANGCHAIN/venv/lib/python3.10/site-packages (from unstructured-client->unstructured) (1.0.6)\n",
      "Requirement already satisfied: mypy-extensions>=1.0.0 in /Users/tmedeirosb/Desktop/DEV/LANGCHAIN/venv/lib/python3.10/site-packages (from unstructured-client->unstructured) (1.0.0)\n",
      "Requirement already satisfied: packaging>=23.1 in /Users/tmedeirosb/Desktop/DEV/LANGCHAIN/venv/lib/python3.10/site-packages (from unstructured-client->unstructured) (23.2)\n",
      "Requirement already satisfied: python-dateutil>=2.8.2 in /Users/tmedeirosb/Desktop/DEV/LANGCHAIN/venv/lib/python3.10/site-packages (from unstructured-client->unstructured) (2.9.0.post0)\n",
      "Requirement already satisfied: h11<1,>=0.9.0 in /Users/tmedeirosb/Desktop/DEV/LANGCHAIN/venv/lib/python3.10/site-packages (from wsproto>=0.14->trio-websocket~=0.9->selenium) (0.14.0)\n"
     ]
    }
   ],
   "source": [
    "!pip install unstructured selenium"
   ]
  },
  {
   "cell_type": "code",
   "execution_count": null,
   "metadata": {},
   "outputs": [],
   "source": [
    "from langchain.text_splitter import CharacterTextSplitter\n",
    "from langchain.document_loaders import SeleniumURLLoader\n",
    "from langchain import PromptTemplate\n",
    "from langchain import LLMChain, PromptTemplate\n",
    "from langchain_openai import ChatOpenAI\n",
    "from langchain_community.embeddings import OllamaEmbeddings\n",
    "\n",
    "# Initialize language model\n",
    "llm = ChatOpenAI(\n",
    "        api_key=\"ollama\",\n",
    "        model=\"llama3:latest\",\n",
    "        #model=\"gemma2:latest\", #respostas sempre em ingles\n",
    "        #model=\"splitpierre/bode-alpaca-pt-br:latest\", \n",
    "        #model=\"splitpierre/bode-alpaca-pt-br:13b-Q4_0\", \n",
    "        base_url=\"http://localhost:11434/v1\",\n",
    "        temperature=0, \n",
    "    )\n",
    "\n",
    "#set o modelo de embeddings\n",
    "embeddings = OllamaEmbeddings(model=\"mxbai-embed-large\") \n"
   ]
  }
 ],
 "metadata": {
  "kernelspec": {
   "display_name": "venv",
   "language": "python",
   "name": "python3"
  },
  "language_info": {
   "codemirror_mode": {
    "name": "ipython",
    "version": 3
   },
   "file_extension": ".py",
   "mimetype": "text/x-python",
   "name": "python",
   "nbconvert_exporter": "python",
   "pygments_lexer": "ipython3",
   "version": "3.10.14"
  }
 },
 "nbformat": 4,
 "nbformat_minor": 2
}
