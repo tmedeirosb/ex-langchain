{
 "cells": [
  {
   "cell_type": "code",
   "execution_count": 9,
   "metadata": {},
   "outputs": [],
   "source": [
    "#!pip install unstructured selenium"
   ]
  },
  {
   "cell_type": "code",
   "execution_count": 19,
   "metadata": {},
   "outputs": [],
   "source": [
    "from langchain.text_splitter import CharacterTextSplitter\n",
    "from langchain.document_loaders import SeleniumURLLoader\n",
    "from langchain import PromptTemplate\n",
    "from langchain import LLMChain, PromptTemplate\n",
    "#from langchain_openai import ChatOpenAI\n",
    "from langchain.llms import Ollama\n",
    "from langchain_community.embeddings import OllamaEmbeddings\n",
    "from langchain_community.vectorstores import FAISS\n",
    "\n"
   ]
  },
  {
   "cell_type": "code",
   "execution_count": null,
   "metadata": {},
   "outputs": [],
   "source": [
    "# we'll use information from the following articles\n",
    "urls = ['https://beebom.com/what-is-nft-explained/',\n",
    "        'https://beebom.com/how-delete-spotify-account/',\n",
    "        'https://beebom.com/how-download-gif-twitter/',\n",
    "        'https://beebom.com/how-use-chatgpt-linux-terminal/',\n",
    "        'https://beebom.com/how-delete-spotify-account/',\n",
    "        'https://beebom.com/how-save-instagram-story-with-music/',\n",
    "        'https://beebom.com/how-install-pip-windows/',\n",
    "        'https://beebom.com/how-check-disk-usage-linux/']"
   ]
  },
  {
   "cell_type": "code",
   "execution_count": 7,
   "metadata": {},
   "outputs": [
    {
     "name": "stderr",
     "output_type": "stream",
     "text": [
      "Created a chunk of size 1226, which is longer than the specified 1000\n"
     ]
    }
   ],
   "source": [
    "# use the selenium scraper to load the documents\n",
    "loader = SeleniumURLLoader(urls=urls)\n",
    "docs_not_splitted = loader.load()\n",
    "\n",
    "# we split the documents into smaller chunks \n",
    "text_splitter = CharacterTextSplitter(chunk_size=1000, chunk_overlap=0)\n",
    "docs = text_splitter.split_documents(docs_not_splitted)\n",
    "\n"
   ]
  },
  {
   "cell_type": "code",
   "execution_count": 12,
   "metadata": {},
   "outputs": [],
   "source": [
    "#set o modelo de embeddings\n",
    "embeddings = OllamaEmbeddings(model=\"mxbai-embed-large\")\n",
    "\n",
    "#cria o vetor store\n",
    "db = FAISS.from_documents(docs, embedding=embeddings)\n"
   ]
  },
  {
   "cell_type": "code",
   "execution_count": 13,
   "metadata": {},
   "outputs": [
    {
     "name": "stdout",
     "output_type": "stream",
     "text": [
      "Home > Tech > How to Check Disk Usage in Linux (4 Methods)\n",
      "\n",
      "How to Check Disk Usage in Linux (4 Methods)\n",
      "\n",
      "Beebom Staff\n",
      "\n",
      "Comments\t\t\t\t\t\t\t\n",
      "\t\t\t\t\t\t\t\n",
      "\t\t\t\t\t\t\t\t0\n",
      "\n",
      "Share\n",
      "\n",
      "Copied\n",
      "\n",
      "There may be times when you need to download some important files or transfer some photos to your Linux system, but face a problem of insufficient disk space. You head over to your file manager to delete the large files which you no longer require, but you have no clue which of them are occupying most of your disk space. In this article, we will show some easy methods to check disk usage in Linux from both the terminal and the GUI application.\n",
      "\n",
      "Table of Contents\n",
      "\n",
      "Display Disk Usage in Human Readable Format\n",
      "\n",
      "Display Disk Occupancy of a Particular Type\n",
      "\n",
      "Display Disk Usage in Human Readable Format\n",
      "\n",
      "Display Disk Usage for a Particular Directory\n",
      "\n",
      "Compare Disk Usage of Two Directories\n",
      "\n",
      "Sorting Files based on File Size\n",
      "\n",
      "Exclude Files Based on Their File Size\n",
      "\n",
      "Exclude Files Based on their Types\n"
     ]
    }
   ],
   "source": [
    "# let's see the top relevant documents to a specific query\n",
    "query = \"how to check disk usage in linux?\"\n",
    "docs = db.similarity_search(query)\n",
    "print(docs[0].page_content)\n"
   ]
  },
  {
   "cell_type": "code",
   "execution_count": 14,
   "metadata": {},
   "outputs": [],
   "source": [
    "# let's write a prompt for a customer support chatbot that\n",
    "# answer questions using information extracted from our db\n",
    "\n",
    "template = \"\"\"You are an exceptional customer support chatbot that gently answer questions.\n",
    "              You know the following context information.\n",
    "              \n",
    "              {chunks_formatted} \n",
    "              \n",
    "              Answer to the following question from a customer. \n",
    "              Use only information from the previous context information. Do not invent stuff.\n",
    "\n",
    "              Question: {query}Answer:\"\"\"\n",
    "\n",
    "prompt = PromptTemplate(    \n",
    "    input_variables = [\"chunks_formatted\", \"query\"],    \n",
    "    template=template,)\n",
    "\n",
    "\n"
   ]
  },
  {
   "cell_type": "code",
   "execution_count": 15,
   "metadata": {},
   "outputs": [],
   "source": [
    "# the full pipeline# user question\n",
    "query = \"How to check disk usage in linux?\"\n",
    "\n",
    "# retrieve relevant chunks\n",
    "docs = db.similarity_search(query)\n",
    "retrieved_chunks = [doc.page_content for doc in docs]\n",
    "\n",
    "# format the prompt\n",
    "chunks_formatted = \"\\n\\n\".join(retrieved_chunks)\n",
    "prompt_formatted = prompt.format(chunks_formatted=chunks_formatted, query=query)"
   ]
  },
  {
   "cell_type": "code",
   "execution_count": 23,
   "metadata": {},
   "outputs": [],
   "source": [
    "# Initialize language model\n",
    "llm = Ollama(model='llama3:latest', temperature=0)"
   ]
  },
  {
   "cell_type": "code",
   "execution_count": 24,
   "metadata": {},
   "outputs": [
    {
     "name": "stdout",
     "output_type": "stream",
     "text": [
      "According to the article, there are several methods to check disk usage in Linux. Here are four ways:\n",
      "\n",
      "1. **Display Disk Usage in Human Readable Format**: You can use the `du` command with the `-h` flag to display the sizes in human-readable format like megabytes, gigabytes, etc.\n",
      "\n",
      "Example: `du -h`\n",
      "\n",
      "2. **Display Disk Occupancy of a Particular Type**: You can use the `df` command with options such as `-a`, `-h`, `-t`, or `-x` to display the disk usage of only the file system of a particular type.\n",
      "\n",
      "Example: `df -h`\n",
      "\n",
      "3. **Display Disk Usage for a Particular Directory**: You can use the `du` command with the `-s` flag and specify the directory name to view the disk usage for that specific folder.\n",
      "\n",
      "Example: `du -s -h <directory_name>`\n",
      "\n",
      "4. **Compare Disk Usage of Two Directories**: You can use the `du` command with multiple directory names to compare the disk usage of two or more directories.\n",
      "\n",
      "Example: `du <options> <directory_1> <directory_2>`\n",
      "\n",
      "Additionally, you can also check disk usage using GUI tools like Gnome Disk Tool and Disk Usage Analyzer Tool.\n"
     ]
    }
   ],
   "source": [
    "res = llm.invoke(prompt_formatted)\n",
    "print(res)"
   ]
  },
  {
   "cell_type": "code",
   "execution_count": null,
   "metadata": {},
   "outputs": [],
   "source": []
  }
 ],
 "metadata": {
  "kernelspec": {
   "display_name": "venv",
   "language": "python",
   "name": "python3"
  },
  "language_info": {
   "codemirror_mode": {
    "name": "ipython",
    "version": 3
   },
   "file_extension": ".py",
   "mimetype": "text/x-python",
   "name": "python",
   "nbconvert_exporter": "python",
   "pygments_lexer": "ipython3",
   "version": "3.10.14"
  }
 },
 "nbformat": 4,
 "nbformat_minor": 2
}
