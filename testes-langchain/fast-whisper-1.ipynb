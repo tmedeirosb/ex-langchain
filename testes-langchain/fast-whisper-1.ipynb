{
 "cells": [
  {
   "cell_type": "code",
   "execution_count": 2,
   "metadata": {},
   "outputs": [],
   "source": [
    "#https://github.com/SYSTRAN/faster-whisper/tree/master\n",
    "#pip install faster-whisper\n",
    "from faster_whisper import WhisperModel\n",
    "\n",
    "model_size = \"large-v3\"\n",
    "\n",
    "# Run on GPU with FP16\n",
    "#model = WhisperModel(model_size, device=\"cuda\", compute_type=\"float16\")\n",
    "\n",
    "# or run on GPU with INT8\n",
    "#model = WhisperModel(model_size, device=\"cuda\", compute_type=\"int8_float16\")\n",
    "\n",
    "# or run on CPU with INT8\n",
    "model = WhisperModel(model_size, device=\"cpu\", compute_type=\"int8\")\n",
    "\n"
   ]
  },
  {
   "cell_type": "code",
   "execution_count": 3,
   "metadata": {},
   "outputs": [
    {
     "name": "stdout",
     "output_type": "stream",
     "text": [
      "Detected language 'pt' with probability 1.000000\n",
      "[0.00s -> 8.80s]  O pessoal, bom dia a todos e a todas.\n"
     ]
    }
   ],
   "source": [
    "segments, info = model.transcribe(\n",
    "    \"/Users/tmedeirosb/Downloads/Abertura_Design_Instrucional_e_Producao_de_Material_Didatico.mp4\",\n",
    "    beam_size=5,\n",
    "    vad_filter=True,\n",
    "    vad_parameters=dict(min_silence_duration_ms=500),\n",
    "    language='pt')\n",
    "\n",
    "print(\"Detected language '%s' with probability %f\" % (info.language, info.language_probability))\n",
    "\n",
    "for segment in segments:\n",
    "    print(\"[%.2fs -> %.2fs] %s\" % (segment.start, segment.end, segment.text))\n",
    "    break"
   ]
  },
  {
   "cell_type": "code",
   "execution_count": null,
   "metadata": {},
   "outputs": [],
   "source": []
  }
 ],
 "metadata": {
  "kernelspec": {
   "display_name": "venv",
   "language": "python",
   "name": "python3"
  },
  "language_info": {
   "codemirror_mode": {
    "name": "ipython",
    "version": 3
   },
   "file_extension": ".py",
   "mimetype": "text/x-python",
   "name": "python",
   "nbconvert_exporter": "python",
   "pygments_lexer": "ipython3",
   "version": "3.10.14"
  }
 },
 "nbformat": 4,
 "nbformat_minor": 2
}
