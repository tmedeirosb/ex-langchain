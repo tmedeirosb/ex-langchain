{
 "cells": [
  {
   "cell_type": "code",
   "execution_count": 2,
   "metadata": {},
   "outputs": [],
   "source": [
    "#!pip install -U openai-whisper\n",
    "\n",
    "import whisper"
   ]
  },
  {
   "cell_type": "code",
   "execution_count": 4,
   "metadata": {},
   "outputs": [
    {
     "name": "stderr",
     "output_type": "stream",
     "text": [
      "/Users/tmedeirosb/Desktop/DEV/LANGCHAIN/venv/lib/python3.10/site-packages/whisper/__init__.py:65: UserWarning: /Users/tmedeirosb/.cache/whisper/large-v3.pt exists, but the SHA256 checksum does not match; re-downloading the file\n",
      "  warnings.warn(\n",
      "100%|█████████████████████████████████████| 2.88G/2.88G [00:52<00:00, 59.1MiB/s]\n"
     ]
    }
   ],
   "source": [
    "model = whisper.load_model(\"large\")"
   ]
  },
  {
   "cell_type": "code",
   "execution_count": 5,
   "metadata": {},
   "outputs": [
    {
     "name": "stderr",
     "output_type": "stream",
     "text": [
      "/Users/tmedeirosb/Desktop/DEV/LANGCHAIN/venv/lib/python3.10/site-packages/whisper/transcribe.py:115: UserWarning: FP16 is not supported on CPU; using FP32 instead\n",
      "  warnings.warn(\"FP16 is not supported on CPU; using FP32 instead\")\n"
     ]
    },
    {
     "name": "stdout",
     "output_type": "stream",
     "text": [
      " Você está no... Pessoal, bom dia a todos e a todas. Hoje é o nosso primeiro encontro síncrono. É muito importante que vocês prestem atenção que são duas disciplinas que estão ocorrendo ao mesmo tempo, certo? Processo de produção de material didático e design institucional. Os alunos confundem muito isso e acabam fazendo as atividades só de um. E esquecem a outra, tá bem? Então, a gente vai se apresentar. E a gente vai apresentar as duas páginas. O primeiro módulo, tirar as dúvidas, tá bem? Eu sou o Thiago Medeiros, sou professor aqui do Instituto Federal há quase 13 anos. Minha formação é... Eu sou engenheiro de computação, meu doutorado também nessa área, mas foco até em inteligência artificial, ciência de dados na área de educação. Mas também tenho formações na área pedagógica. Tenho a licenciatura em formação pedagógica e também tenho uma especialização... em design institucional. E já atuei como diretor de produção de material didático e de educação à distância aqui no IFRN por quase cinco anos. Então, o objetivo aqui é compartilhar um pouquinho dessa experiência, né? Com vocês nessas duas disciplinas. Passar aqui a palavra para a colega Louise. Olá, gente. Bom dia. Estou aprendendo aqui com essa plataforma. Confesso que ainda não tinha utilizado. Então, eu vou começar. Então, eu vou começar. Então, eu vou começar. Então, eu vou começar. Então, estou aqui burilando. Primeiro, gostaria de dar boas-vindas aos estudantes. Eu acho que tem uma ex-aluna minha aqui, Geandra Dias. Depois, se for você, diga aí que deu um oi. Eu acho que foi minha aluna lá em Panguassu, no curso de licenciatura em informática. E, como o Tiago falou, esse é o momento inicial para a gente apresentar as duas disciplinas. Algo que ele está sempre sinalizando que é importante. Como vocês são um grupo só que estão fazendo a sua aula, fazendo duas disciplinas, comigo e com o Tiago, isso gera muita confusão no sentido de ah, eu fiz a atividade. Só que eu fiz a atividade, por exemplo, da disciplina de processo de produção de material didático. E aí, a outra disciplina de introdução ao design instrucional ficou ali. Então, para ter esse cuidado, ter essa atenção, a gente vai estar sempre lembrando, enviando os informes. Mas, assim, como todo aluno da EAD sabe, vocês precisam ter autonomia no sentido de anotar as datas, perceber ali qual o período de envio das atividades. Todo mundo aqui já fez o ensino superior, está fazendo aí outras possibilidades de formação. Então, é mais nesse sentido. E aí, é geandra mesmo. Assim, sou eu. De Panguassu para EAD. Eu sou Louise, sou formada em pedagogia, tenho uma estrada doutorada na área de educação. E atuo, sou professora há oito anos no IFRN do campus de Panguassu. Atualmente, eu estou aqui na reitoria, juntamente com o professor Tiago. A gente está desenvolvendo atividades na ProEN, na Pró-Reitoria de Ensino. Mas também estamos dialogando aqui com essas disciplinas. Então, para mim, é uma oportunidade de aprender também. E é isso, Tiago. Pode continuar aí. Bem, pessoal, como será a dinâmica? A gente vai apresentar aqui as duas disciplinas. Em qualquer momento, vocês podem usar o chat. Eu estou olhando aqui o chat, certo? E também vocês podem abrir a câmera e o áudio, se quiser tirar uma dúvida. Sintam a vontade, sintam-se acolhidos. Não tenham vergonha, porque aqui nós estamos trabalhando justamente com o público adulto. Então, cada um tem suas vivências, suas experiências, e vai, com certeza, contribuir. Antes de a gente iniciar, a gente já fez aqui uma conversa no bate-papo. Então, por exemplo, temos aqui pessoas que estão fazendo doutorado, né? A Regis falou aqui, faz doutorado em odontologia, que é bem interessante. Mas tem uma perspectiva de trabalhar na docência. A Cláudia comentou que trabalha na universidade lá da Paraíba, justamente também com EAD. Então, justamente pode trazer toda essa vivência. Então, fique à vontade de abrir e conversar, tá bem? Vocês estão vendo o compartilhamento da tela, certo? Podem me confirmar aqui no chat. Estão vendo aqui o compartilhamento da tela. Certo. Então, novamente, nós estamos... Vamos executar duas disciplinas. Processo de produção de material de dados e introdução ao design institucional. Vou passar por cada uma delas. Essas duas disciplinas, elas são integradas, certo? Vocês vão ver que, na introdução ao design institucional, a gente vai ter uma disciplina que é a disciplina de design. Então, a gente vai fazer uma disciplina de design, que é a disciplina de design de uma área, né? E vem uma metodologia chamada modelo EAD. A, D, D, I, E. Tá? E uma das fases que é de desenvolvimento é justamente a produção de recursos educacionais, que esta fase seria contemplada, por exemplo, pela disciplina de processo de produção de material de dados. Tá? Então, elas têm essa integração, sim. Tá bem? Então, uma vocês vão ver de uma forma algo mais geral, um planejamento, um ciclo de desenvolvimento. E uma mais focada na parte de produção de mídias educacionais, mais especificamente duas mídias que vamos ver, que são as que são mais utilizadas ainda hoje na educação à distância, que é a mídia texto e a mídia videoaula, certo? Então, vamos iniciar aqui na disciplina de processo de produção de material de dados. Então, a gente tem aqui nessa primeira sessão, como a gente já fez um vídeo explicando a página, tudo bem, está aqui disponível, certo? Então, tenho aqui uma pequena parte, uma pequena apresentação, certo? Se vocês clicarem aqui, ó, em contrair tudo, eles diminuem, tá? E aqui no canto superior esquerdo, para algumas pessoas, vai aparecer esse menu sanduíche que a gente chama, certo? Se você clica neles, também tem esse menu aqui de atalho. Esse menu é muito interessante se você estiver acessando pelo celular ou pelo tablet, certo? Isso facilita muito a navegação da página, tá? Então, a apresentação é apenas esse texto, com esse vídeo, onde aqui vai ter a explicação da página, tudo bem? Temos essa sessão chamada informações gerais, onde aqui nesse primeiro link tem toda a organização, como está dividida a disciplina, o nosso cronograma e os links de todas as webinars ou momentos simples, se vocês quiserem falar assim, que ocorrerão, certo? Estão marcados para dia 8 e meia, no dia 6, é o dia de hoje, dia 19, dia 4, certo? Temos aí a meta da disciplina, formulado de análise do perfil do aluno. É interessante que vocês respondam essas perguntas, justamente para a gente entender um pouco mais do perfil e adaptar a disciplina conforme necessário. Nós não estamos aqui trabalhando com um design instrucional fixo, que vocês vão ver na outra disciplina, o concept, que é aquele material padronizado, onde é que a gente tem que seguir a regra, aquele conteúdo. Não, nós não estamos fazendo isso, nós estamos trabalhando com um design mais contextualizado, onde é que, conforme a necessidade do aluno, a gente pode adaptar, sim, a disciplina, conforme as dúvidas de vocês, está bem? Então, é interessante que vocês respondam. Os trabalhos, as atividades serão avaliações em grupos, tá? Então, mesmo o grupo formado aqui para o curso de produção de material didático também pode servir para o design institucional. Certo? Então, essa ferramenta aqui é apenas para que vocês se organizem melhor, mas as atividades terão que ser enviadas de forma individual para a gente conseguir atribuir a nota. Mas vocês podem fazer entre grupos, grupos entre si, está bem? Então, como é que vocês podem ver aqui? Em seleção de grupos, por exemplo, vocês combinam aqui, Enói e Dayano, por exemplo, vamos dizer que eles combinaram, está no grupo 1, certo? Então, vocês combinam o grupo e abaixo de selecionar qual grupo vocês estão lá, isso aqui é uma ferramenta apenas para vocês se organizarem melhor, tudo bem? Informações gerais. Então, e comunicação e interação. Aqui é onde a gente tenta concentrar esses momentos que vamos concentrar, seja assíncronos, ou seja, nós não estaremos ao mesmo tempo, certo? Seriam os fóruns, principalmente. E os momentos simples, né? Simples, como essas webinars, essas lives, esses momentos que a gente está gravando aqui pela RNP. Todos os momentos ficarão gravados, depois eu vou subir lá para o canal do YouTube e disponibilizar o link para vocês, para quem não for participar, está bem? Então, em avisos vai ter a marcação de data, alguma coisa, alguma intercorrência. E no fórum de todos os debates já tem aqui uma primeira pergunta, certo? Vamos nos conhecer justamente para vocês se apresentarem, para a gente entender qual a expectativa que vocês têm do curso, está bem? Aqui, a gente viu já o Thiago e a Dayane já respondendo, certo? Também tem alguns tutores que vão auxiliar na disciplina que vocês podem também utilizar para tirar dúvidas aqui, está certo? Bem, aqui é o link dos momentos síncronos, certo? Se vocês clicarem aqui, essa plataforma que a gente está usando é a plataforma da RNP. Que é uma instituição do Governo Federal, onde é que dá esse suporte de streaming, de lives, enfim. Então, essa é uma ferramenta bem interessante de utilizar, onde é que dá para gravar e dá para a gente fazer essa interação também, quem quiser abrir cama, quem quiser abrir o áudio, certo? Então, está aqui já agendado. Basta clicar nesse Play, Play azulzinho, assim, em cima de Play, certo? . Bem, seguindo aqui, temos alguns links, né? Além que todas as videoaulas serão gravadas e disponibilizadas nesse link aqui, tanto para o design institucional como produção de material e dados, né? São duas disciplinas, então a gente vai sempre fazer esses momentos síncronos juntos, está certo? E sempre os alunos vão procurar a gente nas redes sociais, né? Então, está aí o link, né? Lá no YouTube é o meu canal, então depois sigam, curtam e compartilhem os vídeos com seus colegas, está certo? Vamos lá. Então, nesse primeiro momento, explicando agora os tópicos de conteúdo que vamos abordar nesse primeiro momento, está certo? Então, em processo de produção de material e dados, a gente tem um modo inicial chamado introdução, para vocês começarem a entender esses jargões, essas palavras-chave que a gente vem trabalhando, vai trabalhar ao longo da disciplina. Então, esse aqui é um texto clássico do Tony Davis, que é um canadense, onde é que ele pega as mídias educacionais, o que são mídias, pessoal? São tecnologias que servem justamente para comunicação, por exemplo, o texto, o vídeo, enfim, vídeos computacionais, por exemplo, os jogos, o áudio. Então, cada uma dessas mídias a gente pode utilizar com um propósito diferente, porque cada uma delas tem uma potencialidade, está certo? Então, esse texto aqui vai explicar toda essa questão das mídias educacionais, e uma pequena atividade é justamente vocês fazerem um mapa mental para vocês entenderem quais são as características de cada mídia, e isso vai fazer com que você facilite a construção de conhecimento, de esquema mental aí na cabecinha de vocês, está certo? Vai valer um ponto extra essa atividade, não é obrigatório no caso, mas é importante que vocês façam, que isso vai se facilitar. Uma vez que vocês entenderam esses conceitos iniciais, aí de fato é o conteúdo deste modo, que é o texto de dados. As duas principais mídias ainda utilizadas na educação à distância é o texto e vídeo. Com certeza. E cada vez mais, o texto vem cada vez mais, principalmente com chatbots agora, é uma mídia onde está em acessão, todo mundo está escrevendo, conversando com o chat de APT da vida. Se a gente tiver um tempo, a gente vai tentar fazer uma aula para vocês sobre o uso do chat de APT, por exemplo, na área de produção material de dados com acessíveis, onde aqui é uma ferramenta extremamente interessante para ser utilizada nesse tipo de produção. A gente vai tentar organizar o cronograma para ver se consegue, se consegue fazer esse momento com vocês, está bem? Então, vai ter aqui uma avaliação que é um questionáriozinho mesmo, sobre mídias educacionais, que é baseado naquele texto que vocês viram. Certo? Esse link aqui, vou mostrar aqui para vocês, é um texto que a gente, que eu desenvolvi junto com os colegas quando eu fui diretor de produção material de dados. É um... Vou mostrar aqui para vocês rapidinho. Então, é toda política editorial. É um texto relativamente... 57 páginas, assim, que é menor porque ele fosse diagramado, né? É pouco texto na página, né? Então, aqui a gente vai mostrar todo o nosso fluxo de produção, todo o cuidado com a linguagem. É muito importante que vocês entendam o conceito de texto didático. O texto didático não é aquele texto científico, academicista, certo? Então, a forma de se escrever é diferente. O objetivo do texto didático é você... pegar aquele conhecimento acadêmico, técnico-científico duro, vamos dizer assim, entre aspas, e fazer uma transposição de dados e tornar o texto mais acessível pedagogicamente para o aluno. Então, o importante é que você enfatize, priorize aquela parte principal do conteúdo. Então, imagine o seguinte. Quando o aluno vai passar por aquela disciplina, o que é o mais importante dele? E você tem que pegar esse conteúdo, e tentar escrever da melhor forma possível, utilizando, logicamente, uma base científica por trás, por exemplo, linguagem dialogada, usar, por exemplo, voz ativa, né? Enfim, aqui tem algumas várias dicas de como você pode produzir esse texto justamente para facilitar a aprendizagem. Então, o foco é transposição de dados, então, o texto didático, tudo bem? E aqui tem toda como é que a gente organiza as disciplinas, os módulos, as aulas, as universidades didáticas. Temos também como é que é a estruturação desse texto, né? Que tem os objetivos educacionais, inicialmente. Qual é a quantidade de páginas em relação à carga horária, como é que a gente faz essa conta, esse número mágico, vamos dizer assim. Mas também tem uma base científica por trás. Temos alguns vídeos em relação à explicação, é bem interessante, tá? Tem os QR codes que apontam para os vídeos, onde é que fala um pouquinho mais sobre esse tipo de conteúdo, tá bem? Bem. . Isso. Você estava muda, você. Tá. Vou só complementar, então. Acho que você já fez... Esse material, eu acho que... Tiago fica brincando, é um material que eu produzi junto com o pessoal. É um material realmente muito bom. E aí, ele é muito didático, para tratar sobre a produção de material didático. Então, eu acho que como o Tiago bem colocou, eu acho que o grande desafio da gente, que já passou por um processo acadêmico mais engessado, é transformar aquilo que é essencial para que o aluno compreenda. Então, como é que eu vou produzir um material que seja direto, no sentido de, ao mesmo tempo, trazer fontes, trazer citações, trazer os autores, mas ser aquele material que comunique bem. E aí, o material que ele está trazendo traz todo esse detalhamento, desde a quantidade de páginas que deve ser utilizado por aluno, por leitura, por dia, esse número mágico que ele fala. Essa linguagem que tem que ser uma linguagem acessível, mas também uma linguagem contextualizada, uma linguagem que leve para reflexões. O uso desse material gráfico, porque aí não é só o texto, mas outros materiais que vão complementar a leitura daquele conteúdo. Então, é um texto didático muito bacana, porque ele dá esse direcionamento de como deve ser a produção dele, a produção desse material didático. Bem, então, continuando, além dessa mídia texto, do texto didático, a gente também tem duas videoaulas aqui, que vão esminhoçar todo esse conteúdo em relação à produção do material didático. Temos aqui um momento que a gente fez uma conversa, que a gente fez com dois revisores nossos. Um que é professor também, que é pedagogia aqui na Luciana. E eles já foram revisores de revisão pedagógica do texto, então eles vão comentar aqui como é o olhar do revisor para o texto didático. É bem interessante. Aqui tem um vídeo sobre design e aprendizagem multimídia. É bem interessante. Temos vários exemplos de vários textos didáticos produzidos pela nossa editora, usando justamente essas diretrizes. Temos um modelo de como vocês devem preencher, Temos um modelo de como vocês devem preencher, se vocês podem utilizar nas suas instituições, e por que esse modelo, porque a atividade que vocês vão fazer é de produção de material didático. Então, eu acredito muito na abordagem Learn by doing, aprender fazendo. Então, é muito importante que vocês façam, passem por essa experiência de fazer um texto didático. Então, aqui tem um modelo de aula onde vocês vão preencher seguindo todas essas diretrizes. Além disso, tem aqui um documento chamado critérios de avaliação. Vou mostrar aqui para vocês. Vou ter que compartilhar a tela toda agora. Deixa eu descompartilhar e compartilhar novamente a tela. E vocês... Compartilhar tudo. Compartilhar tudo. Compartilhar tudo. E vocês conseguem ver esses dois modelos. Já está compartilhando novamente? Não. Compartilhar tudo. Deixa eu tentar de novo. Compartilhar tudo. Compartilhar tudo. Compartilhar tudo. Não, não? Não. Deixa eu ver aqui. Compartilhar tudo. Compartilhar tudo. Compartilhar tudo. Compartilhar tudo. Compartilhar tudo. Não está permitindo compartilhar tudo. Que engraçado. Entendeu? Vou tentar pela última vez. Se não der certo... Não está dizendo compartilhar. Deixa eu ver se abrindo dá para compartilhar só o documento. não é é pessoal não consigo compartilhar mais mas vocês vão ver o vou ter aqui umas 5 vezes aqui mas depois vocês quando for ter acesso vocês vão ver que é uma lista um é o modelo de aula mesmo as caixinhas que vocês tem que preencher tá e a outra é quais são os critérios que serão avaliados quando vocês fizerem esse texto e como é que vai acontecer a atividade aqui tem avaliação entre pares produção da aula então vocês em grupo vão produzir um texto e vocês terão até dia 19 de fevereiro para enviar essa versão pessoal é um texto simples de 3 a 5 páginas certo eu sei que muitos vão usar o chat gpt ok a gente depois vai conversar um pouco sobre isso né nesse momento o síncrono mas é muito importante que vocês façam esse texto use o chat gpt para melhorar o texto não simplesmente joguem lá e façam o texto vocês usem ele como copiloto como um copo vocês escrevam, tentem usar as diretrizes produzem um texto talvez usem o chat gpt para melhorar para fazer a correção da fotografia mas não deixem de fazer essa experiência de produção de material de dados então vocês em grupo de 3 até 3 pessoas vão produzir de 3 a 5 páginas seguindo as diretrizes e vão enviar até dia 19 de fevereiro depois vocês vão ter a experiência de corrigir certo ter também esse olhar de revisores então cada um dos critérios que está lá na lista vocês vão pegar o texto de algum dos colegas e verificar se ele contempla cada um daqueles critérios que foram colocados lá então é importante que você além de ter a experiência de construir um texto de dados vocês também tenham a experiência de revisar um texto de dados certo e vocês terão até 27 para fazer essas correções dos textos corretos então essa vai ser a nossa primeira unidade a atividade da primeira a atividade a atividade da primeira unidade bem para quem quiser depois não sei se vai dar tempo de vocês conseguirem assistir mas tem um material complementar para quem quiser aprofundar um pouco esse conteúdo que é um guia lá do IEF São Paulo tem um guia também de produção de material de dados que é um guia que é realizado pela UAB a UAB algumas pessoas chamam que é a Universidade da PECA do Brasil é bem interessante e tem aqui um vídeo bem interessante sobre construção de narrativas porque no final das contas a nossa vida a gente sempre é construção de narrativas e aqui ele traz várias questões interessantes por exemplo a questão dos arquétipos quem tiver curiosidade sobre os mitos, sobre a construção de narrativas é bem interessante essa video aula tá bem a gente vai deixar a produção de videoaulas tá certo isso aí a gente vai deixar quando iniciar o próximo topo isso aqui a gente só explicou sobre texto de dados tá bem agora eu vou voltar aqui para a nossa entrada e vou aqui colocar aula de disciplina de introdução ao desastre instrucional vou falar novamente pessoal são duas disciplinas que estavam acontecendo ao mesmo tempo certo, não confundo tá bem então eu vou falar novamente em relação a introdução ao desastre instrucional o desastre instrucional é uma área onde é que você dado uma ideia dado um problema educacional como é que a gente consegue materializar uma proposta educacional para resolver aquele problema educacional certo, então o desastre instrucional algumas pessoas aqui no Brasil chamam também de desastre educacional pela questão do não desastre instrucional ter um pouco essa fama de ser muito conteudista fixo que você tem que seguir aquilo enfim no peito do branco então algumas pessoas preferem utilizar o termo design educacional então essa área vai dar algumas ferramentas para você conseguir dar ideia da sua proposta educacional conseguir concretizar implementar essa proposta um dos métodos que existe mais tradicionais é o método ADD ADD ADD e E que é análise design de planejamento de desenvolvimento ou seja a parte de produção de recursos educacionais que seria a parte de produção de material didático e de implementação ou seja criar uma página no Moodle e executar interação com seus alunos e o E é de evaluation que é a avaliação da experiência educacional então nessa disciplina a gente vai trabalhar só com essas duas primeiras letras a análise e o planejamento a partir de uma matriz design institucional segue a mesma estrutura da disciplina anterior a gente tem aqui um vídeo explicando como é a página o cronograma é o mesmo a emenda muda o formulário aqui a gente vai utilizar o mesmo formulário de processo de produção de material didático certo comunicação e interação aqui vai ter o fórum de avisos e o fórum de dúvidas e debates ok da mesma forma como o outro na introdução a gente tem esse conteúdo aqui que é uma uma palestra que eu fiz mini curso na verdade no CMEAD que é o seminário de educação a distância que a gente faz aqui no Instituto Federal então eu esmiucei cada uma das fases do modelo EAD explicando coloco também exemplos práticos de um curso que a gente fez mostrando cada uma dessas fases como a gente executa é muito importante que vocês assistam a essa palestra aqui é um texto que eu escrevi sobre design educacional na EAD inclusive foi o meu TCC licenciatura de formação pedagógica então eu tentei compilar isso no texto que está aqui acessível para vocês algumas informações a mais essa avaliação diagnóstica é justamente para verificar se vocês de fato estudaram, verificaram aprenderam essas palavras chaves então uma vez passado por essa introdução de fato o conteúdo do módulo é uma fase de análise a gente tem aqui uma orientação ou seja cada uma das fases existem, tenho aqui uma explicação para cada uma dessas fases da análise design, desenvolvimento, implementação, avaliação a gente tem algumas perguntas que a gente geralmente faz com o nosso público-alvo para a gente entender melhor esse perfil do aluno certo? então eu vou fazer uma análise de uma análise de um aluno que está fazendo uma análise de um aluno que está fazendo uma análise de um aluno que está fazendo uma análise de um aluno que está fazendo uma análise de um aluno que está fazendo uma análise de um aluno que está fazendo uma análise de um aluno e que a gente vai fazer uma análise de um aluno de um aluno que está fazendo uma análise de um aluno de um aluno que está fazendo uma análise de um aluno de um aluno de um aluno de um aluno de um aluno que está fazendo uma análise de um aluno que está fazendo uma análise de um Legenda Adriana Zanotto Legenda Adriana Zanotto Legenda Adriana Zanotto Legenda Adriana Zanotto Legenda Adriana Zanotto Legenda Adriana Zanotto Legenda Adriana Zanotto Legenda Adriana Zanotto Legenda Adriana Zanotto Legenda Adriana Zanotto Legenda Adriana Zanotto Legenda Adriana Zanotto Legenda Adriana Zanotto Legenda Adriana Zanotto Legenda Adriana Zanotto Legenda Adriana Zanotto Legenda Adriana Zanotto Legenda Adriana Zanotto Legenda Adriana Zanotto Legenda Adriana Zanotto\n"
     ]
    }
   ],
   "source": [
    "result = model.transcribe(\"/Users/tmedeirosb/Downloads/Abertura_Design_Instrucional_e_Producao_de_Material_Didatico.mp4\") \n",
    "print(result['text'])"
   ]
  },
  {
   "cell_type": "code",
   "execution_count": 6,
   "metadata": {},
   "outputs": [],
   "source": [
    "with open ('whisper_text.txt', 'w') as file:   \n",
    "    file.write(result['text'])"
   ]
  },
  {
   "cell_type": "code",
   "execution_count": 8,
   "metadata": {},
   "outputs": [],
   "source": [
    "from langchain import LLMChain \n",
    "from langchain.llms import Ollama\n",
    "from langchain.chains.mapreduce import MapReduceChain\n",
    "from langchain.prompts import PromptTemplate\n",
    "from langchain.chains.summarize import load_summarize_chain"
   ]
  },
  {
   "cell_type": "code",
   "execution_count": 9,
   "metadata": {},
   "outputs": [],
   "source": [
    "# Initialize language model\n",
    "llm = Ollama(model='llama3:latest', temperature=0)"
   ]
  },
  {
   "cell_type": "code",
   "execution_count": 10,
   "metadata": {},
   "outputs": [],
   "source": [
    "from langchain.text_splitter import RecursiveCharacterTextSplitter\n",
    "from langchain.docstore.document import Document\n",
    "\n",
    "text_splitter = RecursiveCharacterTextSplitter(    \n",
    "    chunk_size=1000, chunk_overlap=0, separators=[\" \", \",\", \"\\n\"])\n",
    "\n",
    "texts = text_splitter.split_text(result['text'])\n",
    "docs = [Document(page_content=t) for t in texts[:4]]"
   ]
  },
  {
   "cell_type": "code",
   "execution_count": 11,
   "metadata": {},
   "outputs": [
    {
     "name": "stderr",
     "output_type": "stream",
     "text": [
      "/Users/tmedeirosb/Desktop/DEV/LANGCHAIN/venv/lib/python3.10/site-packages/langchain_core/_api/deprecation.py:139: LangChainDeprecationWarning: The method `Chain.run` was deprecated in langchain 0.1.0 and will be removed in 0.3.0. Use invoke instead.\n",
      "  warn_deprecated(\n",
      "/Users/tmedeirosb/Desktop/DEV/LANGCHAIN/venv/lib/python3.10/site-packages/huggingface_hub/file_download.py:1132: FutureWarning: `resume_download` is deprecated and will be removed in version 1.0.0. Downloads always resume when possible. If you want to force a new download, use `force_download=True`.\n",
      "  warnings.warn(\n"
     ]
    },
    {
     "name": "stdout",
     "output_type": "stream",
     "text": [
      "Here is a concise summary:  The speakers, Thiago Medeiros and Louise, introduce themselves as\n",
      "experts in education and pedagogy. They welcome students to a synchronous meeting covering two\n",
      "disciplines: producing educational materials and institutional design. The goal is to share\n",
      "experiences and perspectives on using the platform, with an emphasis on autonomy and time\n",
      "management.\n"
     ]
    }
   ],
   "source": [
    "from langchain.chains.summarize import load_summarize_chain\n",
    "import textwrap\n",
    "\n",
    "chain = load_summarize_chain(llm, chain_type=\"map_reduce\")\n",
    "output_summary = chain.run(docs)\n",
    "wrapped_text = textwrap.fill(output_summary, width=100)\n",
    "print(wrapped_text)\n"
   ]
  },
  {
   "cell_type": "code",
   "execution_count": 14,
   "metadata": {},
   "outputs": [],
   "source": [
    "prompt_template = \"\"\"Write a concise bullet point summary of the following:\n",
    "\n",
    "\n",
    "{text}\n",
    "\n",
    "\n",
    "CONSCISE SUMMARY IN BULLET POINTS in PT-BR:\"\"\"\n",
    "\n",
    "BULLET_POINT_PROMPT = PromptTemplate(template=prompt_template,\n",
    "                        input_variables=[\"text\"])"
   ]
  },
  {
   "cell_type": "code",
   "execution_count": 15,
   "metadata": {},
   "outputs": [
    {
     "name": "stdout",
     "output_type": "stream",
     "text": [
      "Aqui está uma síntese concisa em pontos:\n",
      "\n",
      "* O professor Thiago Medeiros apresenta-se e explica que o objetivo é compartilhar sua experiência em processo de produção de material didático e design institucional.\n",
      "* A colega Louise também se apresenta, mostrando sua formação em pedagogia e doutorado em educação.\n",
      "* As duas disciplinas estão ocorrendo ao mesmo tempo e é importante que os alunos prestem atenção para não confundir as atividades.\n",
      "* O objetivo é compartilhar experiências e conhecimentos entre os professores e os estudantes.\n",
      "* A dinâmica do curso será de apresentação das disciplinas, com oportunidade de uso do chat e abertura da câmera e áudio para tirar dúvidas.\n",
      "* Os estudantes são convidados a se sentirem à vontade e contribuir com suas vivências e experiências.\n"
     ]
    }
   ],
   "source": [
    "chain = load_summarize_chain(llm,\n",
    "                             chain_type=\"stuff\",\n",
    "                             prompt=BULLET_POINT_PROMPT)\n",
    "\n",
    "output_summary = chain.run(docs)\n",
    "\n",
    "wrapped_text = textwrap.fill(output_summary,\n",
    "                             width=1000,\n",
    "                             break_long_words=False,\n",
    "                             replace_whitespace=False)\n",
    "print(wrapped_text)"
   ]
  },
  {
   "cell_type": "code",
   "execution_count": 16,
   "metadata": {},
   "outputs": [
    {
     "name": "stdout",
     "output_type": "stream",
     "text": [
      "Here is a refined summary:  The speakers, Thiago Medeiros and Louise, welcome students to their\n",
      "first synchronous meeting, emphasizing the importance of paying attention to both disciplines being\n",
      "covered simultaneously: process of producing educational material and institutional design. They\n",
      "introduce themselves as an engineer with a background in computer science, education, and pedagogy,\n",
      "and a professor with a background in pedagogy and education.  Thiago emphasizes the need for\n",
      "students to be actively engaged in their learning process, encouraging them to use the chat feature\n",
      "to ask questions or share their thoughts. He also invites students to open their camera and audio if\n",
      "they have any doubts or want to contribute to the discussion.  Louise highlights the importance of\n",
      "autonomy among students, emphasizing the need to keep track of deadlines and submit activities on\n",
      "time. She also shares her experience using the platform and expresses excitement about starting the\n",
      "course.  The speakers aim to emphasize the interconnectedness of both disciplines and encourage\n",
      "students to take an active role in their learning process. They create a welcoming atmosphere,\n",
      "encouraging students to share their experiences and perspectives, and emphasizing that everyone's\n",
      "contributions are valued.\n"
     ]
    }
   ],
   "source": [
    "chain = load_summarize_chain(llm, chain_type=\"refine\")\n",
    "\n",
    "output_summary = chain.run(docs)\n",
    "wrapped_text = textwrap.fill(output_summary, width=100)\n",
    "print(wrapped_text)"
   ]
  },
  {
   "cell_type": "code",
   "execution_count": null,
   "metadata": {},
   "outputs": [],
   "source": []
  }
 ],
 "metadata": {
  "kernelspec": {
   "display_name": "venv",
   "language": "python",
   "name": "python3"
  },
  "language_info": {
   "codemirror_mode": {
    "name": "ipython",
    "version": 3
   },
   "file_extension": ".py",
   "mimetype": "text/x-python",
   "name": "python",
   "nbconvert_exporter": "python",
   "pygments_lexer": "ipython3",
   "version": "3.10.14"
  }
 },
 "nbformat": 4,
 "nbformat_minor": 2
}
